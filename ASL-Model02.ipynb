{
 "cells": [
  {
   "cell_type": "code",
   "execution_count": 1,
   "id": "9693075e",
   "metadata": {},
   "outputs": [],
   "source": [
    "#Importing tensorflow and keras libraries\n",
    "import tensorflow as tf\n",
    "from tensorflow import keras\n",
    "from tensorflow.keras import layers"
   ]
  },
  {
   "cell_type": "code",
   "execution_count": 2,
   "id": "02e01329",
   "metadata": {},
   "outputs": [
    {
     "name": "stdout",
     "output_type": "stream",
     "text": [
      "Model: \"sequential\"\n",
      "_________________________________________________________________\n",
      "Layer (type)                 Output Shape              Param #   \n",
      "=================================================================\n",
      "conv2d (Conv2D)              (None, 71, 71, 32)        896       \n",
      "_________________________________________________________________\n",
      "max_pooling2d (MaxPooling2D) (None, 35, 35, 32)        0         \n",
      "_________________________________________________________________\n",
      "conv2d_1 (Conv2D)            (None, 33, 33, 32)        9248      \n",
      "_________________________________________________________________\n",
      "max_pooling2d_1 (MaxPooling2 (None, 16, 16, 32)        0         \n",
      "_________________________________________________________________\n",
      "conv2d_2 (Conv2D)            (None, 14, 14, 32)        9248      \n",
      "_________________________________________________________________\n",
      "max_pooling2d_2 (MaxPooling2 (None, 7, 7, 32)          0         \n",
      "_________________________________________________________________\n",
      "flatten (Flatten)            (None, 1568)              0         \n",
      "_________________________________________________________________\n",
      "dense (Dense)                (None, 128)               200832    \n",
      "_________________________________________________________________\n",
      "dense_1 (Dense)              (None, 29)                3741      \n",
      "=================================================================\n",
      "Total params: 223,965\n",
      "Trainable params: 223,965\n",
      "Non-trainable params: 0\n",
      "_________________________________________________________________\n"
     ]
    }
   ],
   "source": [
    "ASLModel02 = tf.keras.models.Sequential([\n",
    "    tf.keras.layers.Conv2D(32, (3,3), activation='relu', input_shape=(73, 73,3)),\n",
    "    tf.keras.layers.MaxPooling2D(2, 2),\n",
    "    tf.keras.layers.Conv2D(32, (3,3), activation='relu'),\n",
    "    tf.keras.layers.MaxPooling2D(2, 2),\n",
    "    tf.keras.layers.Conv2D(32, (3,3), activation='relu'),\n",
    "    tf.keras.layers.MaxPooling2D(2, 2),\n",
    "    tf.keras.layers.Flatten(),\n",
    "    tf.keras.layers.Dense(128, activation='relu'),\n",
    "    tf.keras.layers.Dense(29, activation='softmax')\n",
    "])\n",
    "ASLModel02.compile(optimizer = 'adam', loss = 'categorical_crossentropy', metrics = ['accuracy'])\n",
    "ASLModel02.summary()"
   ]
  },
  {
   "cell_type": "code",
   "execution_count": 3,
   "id": "540b9e57",
   "metadata": {},
   "outputs": [
    {
     "name": "stdout",
     "output_type": "stream",
     "text": [
      "Found 69600 images belonging to 29 classes.\n",
      "Found 17400 images belonging to 29 classes.\n"
     ]
    }
   ],
   "source": [
    "train_datagenerator = tf.keras.preprocessing.image.ImageDataGenerator(rescale = 1./255,\n",
    "                                                                      shear_range = 0.2,\n",
    "                                                                      zoom_range = 0.2,\n",
    "                                                                      horizontal_flip = True,\n",
    "                                                                      validation_split=0.2)\n",
    "\n",
    "training_dataset = train_datagenerator.flow_from_directory('asl_alphabet_train/asl_alphabet_train',\n",
    "                                                           target_size = (73, 73),  # the size of the images expected in my cnn model\n",
    "                                                           batch_size = 32,\n",
    "                                                           subset = 'training',\n",
    "                                                           class_mode = 'categorical')\n",
    "\n",
    "validation_dataset = train_datagenerator.flow_from_directory('asl_alphabet_train/asl_alphabet_train',\n",
    "                                                             target_size = (73, 73),\n",
    "                                                             batch_size = 32,\n",
    "                                                             subset = 'validation',\n",
    "                                                             class_mode = 'categorical')"
   ]
  },
  {
   "cell_type": "code",
   "execution_count": 4,
   "id": "1912db0b",
   "metadata": {},
   "outputs": [
    {
     "name": "stdout",
     "output_type": "stream",
     "text": [
      "Epoch 1/26\n",
      "2175/2175 [==============================] - 987s 453ms/step - loss: 1.2427 - accuracy: 0.6142 - val_loss: 1.7286 - val_accuracy: 0.5378\n",
      "Epoch 2/26\n",
      "2175/2175 [==============================] - 970s 446ms/step - loss: 0.3231 - accuracy: 0.8905 - val_loss: 1.4685 - val_accuracy: 0.6492\n",
      "Epoch 3/26\n",
      "2175/2175 [==============================] - 935s 430ms/step - loss: 0.1816 - accuracy: 0.9392 - val_loss: 1.6460 - val_accuracy: 0.6686\n",
      "Epoch 4/26\n",
      "2175/2175 [==============================] - 933s 429ms/step - loss: 0.1334 - accuracy: 0.9559 - val_loss: 1.6201 - val_accuracy: 0.6928\n",
      "Epoch 5/26\n",
      "2175/2175 [==============================] - 895s 411ms/step - loss: 0.1014 - accuracy: 0.9663 - val_loss: 1.6038 - val_accuracy: 0.7019\n",
      "Epoch 6/26\n",
      "2175/2175 [==============================] - 909s 418ms/step - loss: 0.0907 - accuracy: 0.9693 - val_loss: 1.6347 - val_accuracy: 0.6860\n",
      "Epoch 7/26\n",
      "2175/2175 [==============================] - 759s 349ms/step - loss: 0.0743 - accuracy: 0.9751 - val_loss: 1.7575 - val_accuracy: 0.7107\n",
      "Epoch 8/26\n",
      "2175/2175 [==============================] - 691s 318ms/step - loss: 0.0684 - accuracy: 0.9776 - val_loss: 1.6881 - val_accuracy: 0.7091\n",
      "Epoch 9/26\n",
      "2175/2175 [==============================] - 1130s 520ms/step - loss: 0.0619 - accuracy: 0.9793 - val_loss: 1.8106 - val_accuracy: 0.7193\n",
      "Epoch 10/26\n",
      "2175/2175 [==============================] - 475s 218ms/step - loss: 0.0569 - accuracy: 0.9815 - val_loss: 1.7814 - val_accuracy: 0.7268\n",
      "Epoch 11/26\n",
      "2175/2175 [==============================] - 474s 218ms/step - loss: 0.0535 - accuracy: 0.9827 - val_loss: 1.7490 - val_accuracy: 0.7276\n",
      "Epoch 12/26\n",
      "2175/2175 [==============================] - 471s 217ms/step - loss: 0.0499 - accuracy: 0.9840 - val_loss: 1.7676 - val_accuracy: 0.7030\n",
      "Epoch 13/26\n",
      "2175/2175 [==============================] - 478s 220ms/step - loss: 0.0479 - accuracy: 0.9846 - val_loss: 1.6043 - val_accuracy: 0.7448\n",
      "Epoch 14/26\n",
      "2175/2175 [==============================] - 474s 218ms/step - loss: 0.0417 - accuracy: 0.9865 - val_loss: 1.8670 - val_accuracy: 0.7250\n",
      "Epoch 15/26\n",
      "2175/2175 [==============================] - 460s 211ms/step - loss: 0.0434 - accuracy: 0.9858 - val_loss: 1.6391 - val_accuracy: 0.7366\n",
      "Epoch 16/26\n",
      "2175/2175 [==============================] - 464s 213ms/step - loss: 0.0374 - accuracy: 0.9883 - val_loss: 1.7434 - val_accuracy: 0.7567\n",
      "Epoch 17/26\n",
      "2175/2175 [==============================] - 477s 219ms/step - loss: 0.0403 - accuracy: 0.9877 - val_loss: 1.7606 - val_accuracy: 0.7432\n",
      "Epoch 18/26\n",
      "2175/2175 [==============================] - 493s 227ms/step - loss: 0.0379 - accuracy: 0.9880 - val_loss: 1.7269 - val_accuracy: 0.7567\n",
      "Epoch 19/26\n",
      "2175/2175 [==============================] - 500s 230ms/step - loss: 0.0356 - accuracy: 0.9892 - val_loss: 2.4053 - val_accuracy: 0.7364\n",
      "Epoch 20/26\n",
      "2175/2175 [==============================] - 485s 223ms/step - loss: 0.0368 - accuracy: 0.9889 - val_loss: 2.0429 - val_accuracy: 0.7253\n",
      "Epoch 21/26\n",
      "2175/2175 [==============================] - 463s 213ms/step - loss: 0.0366 - accuracy: 0.9888 - val_loss: 1.9974 - val_accuracy: 0.7352\n",
      "Epoch 22/26\n",
      "2175/2175 [==============================] - 465s 214ms/step - loss: 0.0336 - accuracy: 0.9895 - val_loss: 1.8209 - val_accuracy: 0.7395\n",
      "Epoch 23/26\n",
      "2175/2175 [==============================] - 461s 212ms/step - loss: 0.0306 - accuracy: 0.9905 - val_loss: 2.0256 - val_accuracy: 0.7351\n",
      "Epoch 24/26\n",
      "2175/2175 [==============================] - 459s 211ms/step - loss: 0.0342 - accuracy: 0.9900 - val_loss: 2.0312 - val_accuracy: 0.7456\n",
      "Epoch 25/26\n",
      "2175/2175 [==============================] - 475s 218ms/step - loss: 0.0305 - accuracy: 0.9908 - val_loss: 2.0847 - val_accuracy: 0.7384\n",
      "Epoch 26/26\n",
      "2175/2175 [==============================] - 487s 224ms/step - loss: 0.0288 - accuracy: 0.9911 - val_loss: 2.2350 - val_accuracy: 0.7430\n"
     ]
    }
   ],
   "source": [
    "ASLVersion2=ASLModel02.fit(training_dataset,\n",
    "              epochs = 26,\n",
    "              validation_data = validation_dataset)\n",
    "ASLModel02.save_weights('ASLTest02.h5')"
   ]
  },
  {
   "cell_type": "code",
   "execution_count": 5,
   "id": "1b4a1bcb",
   "metadata": {},
   "outputs": [
    {
     "data": {
      "image/png": "[encoded data removed]",
      "text/plain": [
       "<Figure size 432x288 with 1 Axes>"
      ]
     },
     "metadata": {
      "needs_background": "light"
     },
     "output_type": "display_data"
    },
    {
     "data": {
      "image/png": "[encoded data removed]",
      "text/plain": [
       "<Figure size 432x288 with 1 Axes>"
      ]
     },
     "metadata": {
      "needs_background": "light"
     },
     "output_type": "display_data"
    }
   ],
   "source": [
    "from matplotlib import pyplot as plt\n",
    "\n",
    "plt.plot(ASLVersion2.history['accuracy'])\n",
    "plt.plot(ASLVersion2.history['val_accuracy'])\n",
    "plt.title('model accuracy')\n",
    "plt.ylabel('accuracy')\n",
    "plt.xlabel('epoch')\n",
    "plt.legend(['train', 'val'], loc='upper left')\n",
    "plt.show()\n",
    "\n",
    "plt.plot(ASLVersion2.history['loss'])\n",
    "plt.plot(ASLVersion2.history['val_loss'])\n",
    "plt.title('model loss')\n",
    "plt.ylabel('loss')\n",
    "plt.xlabel('epoch')\n",
    "plt.legend(['train', 'val'], loc='upper left')\n",
    "plt.show()"
   ]
  },
  {
   "cell_type": "code",
   "execution_count": 6,
   "id": "12e7e65d",
   "metadata": {},
   "outputs": [
    {
     "name": "stdout",
     "output_type": "stream",
     "text": [
      "Found 28 images belonging to 29 classes.\n",
      "1/1 [==============================] - 0s 303ms/step - loss: 0.0463 - accuracy: 0.9643\n",
      "0.9642857313156128\n",
      "0.04631423205137253\n"
     ]
    }
   ],
   "source": [
    "# Load weights of a pretrained model\n",
    "test_datagen = tf.keras.preprocessing.image.ImageDataGenerator(rescale = 1./255,shear_range = 0.2,\n",
    "                                                               zoom_range = 0.2,\n",
    "                                                               horizontal_flip = True)\n",
    "\n",
    "test_set = test_datagen.flow_from_directory('asl_alphabet_test/asl_alphabet_test',\n",
    "                                            target_size = (73, 73),\n",
    "                                            batch_size = 32,\n",
    "                                            class_mode = 'categorical')\n",
    "\n",
    "\n",
    "ASLModel02.load_weights(\"ASLTest02.h5\")\n",
    "\n",
    "test_loss, test_acc = ASLModel02.evaluate(test_set)\n",
    "print(test_acc)\n",
    "print(test_loss)\n"
   ]
  }
 ],
 "metadata": {
  "kernelspec": {
   "display_name": "Python 3 (ipykernel)",
   "language": "python",
   "name": "python3"
  },
  "language_info": {
   "codemirror_mode": {
    "name": "ipython",
    "version": 3
   },
   "file_extension": ".py",
   "mimetype": "text/x-python",
   "name": "python",
   "nbconvert_exporter": "python",
   "pygments_lexer": "ipython3",
   "version": "3.9.11"
  }
 },
 "nbformat": 4,
 "nbformat_minor": 5
}
