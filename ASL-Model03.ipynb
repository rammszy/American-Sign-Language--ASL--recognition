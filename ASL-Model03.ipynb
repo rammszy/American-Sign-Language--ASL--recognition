{
 "cells": [
  {
   "cell_type": "code",
   "execution_count": 1,
   "id": "9693075e",
   "metadata": {},
   "outputs": [],
   "source": [
    "#Importing tensorflow and keras libraries\n",
    "import tensorflow as tf\n",
    "from tensorflow import keras\n",
    "from tensorflow.keras import layers"
   ]
  },
  {
   "cell_type": "code",
   "execution_count": 2,
   "id": "02e01329",
   "metadata": {},
   "outputs": [
    {
     "name": "stdout",
     "output_type": "stream",
     "text": [
      "Model: \"sequential\"\n",
      "_________________________________________________________________\n",
      "Layer (type)                 Output Shape              Param #   \n",
      "=================================================================\n",
      "conv2d (Conv2D)              (None, 71, 71, 32)        896       \n",
      "_________________________________________________________________\n",
      "max_pooling2d (MaxPooling2D) (None, 35, 35, 32)        0         \n",
      "_________________________________________________________________\n",
      "conv2d_1 (Conv2D)            (None, 33, 33, 32)        9248      \n",
      "_________________________________________________________________\n",
      "max_pooling2d_1 (MaxPooling2 (None, 16, 16, 32)        0         \n",
      "_________________________________________________________________\n",
      "conv2d_2 (Conv2D)            (None, 14, 14, 32)        9248      \n",
      "_________________________________________________________________\n",
      "max_pooling2d_2 (MaxPooling2 (None, 7, 7, 32)          0         \n",
      "_________________________________________________________________\n",
      "conv2d_3 (Conv2D)            (None, 5, 5, 32)          9248      \n",
      "_________________________________________________________________\n",
      "max_pooling2d_3 (MaxPooling2 (None, 2, 2, 32)          0         \n",
      "_________________________________________________________________\n",
      "flatten (Flatten)            (None, 128)               0         \n",
      "_________________________________________________________________\n",
      "dense (Dense)                (None, 128)               16512     \n",
      "_________________________________________________________________\n",
      "dense_1 (Dense)              (None, 29)                3741      \n",
      "=================================================================\n",
      "Total params: 48,893\n",
      "Trainable params: 48,893\n",
      "Non-trainable params: 0\n",
      "_________________________________________________________________\n"
     ]
    }
   ],
   "source": [
    "ASLModel03 = tf.keras.models.Sequential([\n",
    "    tf.keras.layers.Conv2D(32, (3,3), activation='relu', input_shape=(73, 73,3)),\n",
    "    tf.keras.layers.MaxPooling2D(2, 2),\n",
    "    tf.keras.layers.Conv2D(32, (3,3), activation='relu'),\n",
    "    tf.keras.layers.MaxPooling2D(2, 2),\n",
    "    tf.keras.layers.Conv2D(32, (3,3), activation='relu'),\n",
    "    tf.keras.layers.MaxPooling2D(2, 2),\n",
    "    tf.keras.layers.Conv2D(32, (3,3), activation='relu'),\n",
    "    tf.keras.layers.MaxPooling2D(2, 2),\n",
    "    tf.keras.layers.Flatten(),\n",
    "    tf.keras.layers.Dense(128, activation='relu'),\n",
    "    tf.keras.layers.Dense(29, activation='softmax')\n",
    "])\n",
    "ASLModel03.compile(optimizer = 'adam', loss = 'categorical_crossentropy', metrics = ['accuracy'])\n",
    "ASLModel03.summary()"
   ]
  },
  {
   "cell_type": "code",
   "execution_count": 3,
   "id": "540b9e57",
   "metadata": {},
   "outputs": [
    {
     "name": "stdout",
     "output_type": "stream",
     "text": [
      "Found 69600 images belonging to 29 classes.\n",
      "Found 17400 images belonging to 29 classes.\n"
     ]
    }
   ],
   "source": [
    "train_datagenerator = tf.keras.preprocessing.image.ImageDataGenerator(rescale = 1./255,\n",
    "                                                                      shear_range = 0.2,\n",
    "                                                                      zoom_range = 0.2,\n",
    "                                                                      horizontal_flip = True,\n",
    "                                                                      validation_split=0.2)\n",
    "\n",
    "training_dataset = train_datagenerator.flow_from_directory('asl_alphabet_train/asl_alphabet_train',\n",
    "                                                           target_size = (73, 73),  # the size of the images expected in my cnn model\n",
    "                                                           batch_size = 32,\n",
    "                                                           subset = 'training',\n",
    "                                                           class_mode = 'categorical')\n",
    "\n",
    "validation_dataset = train_datagenerator.flow_from_directory('asl_alphabet_train/asl_alphabet_train',\n",
    "                                                             target_size = (73, 73),\n",
    "                                                             batch_size = 32,\n",
    "                                                             subset = 'validation',\n",
    "                                                             class_mode = 'categorical')"
   ]
  },
  {
   "cell_type": "code",
   "execution_count": 4,
   "id": "1912db0b",
   "metadata": {},
   "outputs": [
    {
     "name": "stdout",
     "output_type": "stream",
     "text": [
      "Epoch 1/39\n",
      "2175/2175 [==============================] - 959s 440ms/step - loss: 1.7011 - accuracy: 0.4704 - val_loss: 1.7732 - val_accuracy: 0.4683\n",
      "Epoch 2/39\n",
      "2175/2175 [==============================] - 958s 440ms/step - loss: 0.6755 - accuracy: 0.7689 - val_loss: 1.3854 - val_accuracy: 0.5960\n",
      "Epoch 3/39\n",
      "2175/2175 [==============================] - 942s 433ms/step - loss: 0.4434 - accuracy: 0.8448 - val_loss: 1.3080 - val_accuracy: 0.6437\n",
      "Epoch 4/39\n",
      "2175/2175 [==============================] - 943s 433ms/step - loss: 0.3292 - accuracy: 0.8849 - val_loss: 1.3953 - val_accuracy: 0.6411\n",
      "Epoch 5/39\n",
      "2175/2175 [==============================] - 890s 409ms/step - loss: 0.2644 - accuracy: 0.9083 - val_loss: 1.3423 - val_accuracy: 0.6757\n",
      "Epoch 6/39\n",
      "2175/2175 [==============================] - 920s 423ms/step - loss: 0.2311 - accuracy: 0.9203 - val_loss: 1.3544 - val_accuracy: 0.6724\n",
      "Epoch 7/39\n",
      "2175/2175 [==============================] - 745s 342ms/step - loss: 0.1959 - accuracy: 0.9331 - val_loss: 1.3224 - val_accuracy: 0.7201\n",
      "Epoch 8/39\n",
      "2175/2175 [==============================] - 705s 324ms/step - loss: 0.1700 - accuracy: 0.9417 - val_loss: 1.5821 - val_accuracy: 0.6539\n",
      "Epoch 9/39\n",
      "2175/2175 [==============================] - 1083s 498ms/step - loss: 0.1546 - accuracy: 0.9453 - val_loss: 1.2863 - val_accuracy: 0.7036\n",
      "Epoch 10/39\n",
      "2175/2175 [==============================] - 514s 236ms/step - loss: 0.1444 - accuracy: 0.9511 - val_loss: 1.3346 - val_accuracy: 0.7090\n",
      "Epoch 11/39\n",
      "2175/2175 [==============================] - 541s 249ms/step - loss: 0.1311 - accuracy: 0.9558 - val_loss: 1.0656 - val_accuracy: 0.7548\n",
      "Epoch 12/39\n",
      "2175/2175 [==============================] - 535s 246ms/step - loss: 0.1263 - accuracy: 0.9568 - val_loss: 1.5716 - val_accuracy: 0.6808\n",
      "Epoch 13/39\n",
      "2175/2175 [==============================] - 542s 249ms/step - loss: 0.1148 - accuracy: 0.9605 - val_loss: 1.1198 - val_accuracy: 0.7410\n",
      "Epoch 14/39\n",
      "2175/2175 [==============================] - 526s 242ms/step - loss: 0.1116 - accuracy: 0.9621 - val_loss: 1.4579 - val_accuracy: 0.7123\n",
      "Epoch 15/39\n",
      "2175/2175 [==============================] - 515s 237ms/step - loss: 0.1050 - accuracy: 0.9651 - val_loss: 1.3227 - val_accuracy: 0.7194\n",
      "Epoch 16/39\n",
      "2175/2175 [==============================] - 513s 236ms/step - loss: 0.0999 - accuracy: 0.9665 - val_loss: 1.3422 - val_accuracy: 0.7329\n",
      "Epoch 17/39\n",
      "2175/2175 [==============================] - 521s 240ms/step - loss: 0.0932 - accuracy: 0.9695 - val_loss: 1.4815 - val_accuracy: 0.7459\n",
      "Epoch 18/39\n",
      "2175/2175 [==============================] - 543s 250ms/step - loss: 0.0951 - accuracy: 0.9677 - val_loss: 1.2446 - val_accuracy: 0.7545\n",
      "Epoch 19/39\n",
      "2175/2175 [==============================] - 542s 249ms/step - loss: 0.0905 - accuracy: 0.9699 - val_loss: 1.5177 - val_accuracy: 0.7525\n",
      "Epoch 20/39\n",
      "2175/2175 [==============================] - 516s 237ms/step - loss: 0.0887 - accuracy: 0.9701 - val_loss: 1.3323 - val_accuracy: 0.7582\n",
      "Epoch 21/39\n",
      "2175/2175 [==============================] - 528s 243ms/step - loss: 0.0878 - accuracy: 0.9706 - val_loss: 1.4335 - val_accuracy: 0.7495\n",
      "Epoch 22/39\n",
      "2175/2175 [==============================] - 521s 240ms/step - loss: 0.0869 - accuracy: 0.9710 - val_loss: 1.2623 - val_accuracy: 0.7587\n",
      "Epoch 23/39\n",
      "2175/2175 [==============================] - 530s 244ms/step - loss: 0.0854 - accuracy: 0.9724 - val_loss: 1.4350 - val_accuracy: 0.7456\n",
      "Epoch 24/39\n",
      "2175/2175 [==============================] - 548s 252ms/step - loss: 0.0764 - accuracy: 0.9748 - val_loss: 1.2881 - val_accuracy: 0.7641\n",
      "Epoch 25/39\n",
      "2175/2175 [==============================] - 327s 150ms/step - loss: 0.0759 - accuracy: 0.9751 - val_loss: 1.2748 - val_accuracy: 0.7649\n",
      "Epoch 26/39\n",
      "2175/2175 [==============================] - 292s 134ms/step - loss: 0.0753 - accuracy: 0.9751 - val_loss: 1.3446 - val_accuracy: 0.7587\n",
      "Epoch 27/39\n",
      "2175/2175 [==============================] - 275s 126ms/step - loss: 0.0788 - accuracy: 0.9742 - val_loss: 1.4202 - val_accuracy: 0.7357\n",
      "Epoch 28/39\n",
      "2175/2175 [==============================] - 382s 176ms/step - loss: 0.0700 - accuracy: 0.9772 - val_loss: 1.2867 - val_accuracy: 0.7721\n",
      "Epoch 29/39\n",
      "2175/2175 [==============================] - 316s 145ms/step - loss: 0.0726 - accuracy: 0.9768 - val_loss: 1.3460 - val_accuracy: 0.7733\n",
      "Epoch 30/39\n",
      "2175/2175 [==============================] - 283s 130ms/step - loss: 0.0681 - accuracy: 0.9774 - val_loss: 1.4765 - val_accuracy: 0.7592\n",
      "Epoch 31/39\n",
      "2175/2175 [==============================] - 283s 130ms/step - loss: 0.0728 - accuracy: 0.9760 - val_loss: 1.2243 - val_accuracy: 0.7624\n",
      "Epoch 32/39\n",
      "2175/2175 [==============================] - 289s 133ms/step - loss: 0.0692 - accuracy: 0.9771 - val_loss: 1.4456 - val_accuracy: 0.7662\n",
      "Epoch 33/39\n",
      "2175/2175 [==============================] - 269s 124ms/step - loss: 0.0708 - accuracy: 0.9773 - val_loss: 1.5455 - val_accuracy: 0.7598\n",
      "Epoch 34/39\n",
      "2175/2175 [==============================] - 271s 124ms/step - loss: 0.0661 - accuracy: 0.9792 - val_loss: 1.6533 - val_accuracy: 0.7496\n",
      "Epoch 35/39\n",
      "2175/2175 [==============================] - 291s 134ms/step - loss: 0.0660 - accuracy: 0.9794 - val_loss: 1.5145 - val_accuracy: 0.7639\n",
      "Epoch 36/39\n",
      "2175/2175 [==============================] - 274s 126ms/step - loss: 0.0673 - accuracy: 0.9780 - val_loss: 1.5116 - val_accuracy: 0.7611\n",
      "Epoch 37/39\n",
      "2175/2175 [==============================] - 297s 137ms/step - loss: 0.0636 - accuracy: 0.9791 - val_loss: 1.6140 - val_accuracy: 0.7547\n",
      "Epoch 38/39\n",
      "2175/2175 [==============================] - 270s 124ms/step - loss: 0.0686 - accuracy: 0.9785 - val_loss: 1.6504 - val_accuracy: 0.7363\n",
      "Epoch 39/39\n",
      "2175/2175 [==============================] - 326s 150ms/step - loss: 0.0613 - accuracy: 0.9810 - val_loss: 1.5467 - val_accuracy: 0.7640\n"
     ]
    }
   ],
   "source": [
    "ASLVersion3=ASLModel03.fit(training_dataset,\n",
    "              epochs = 39,\n",
    "              validation_data = validation_dataset)\n",
    "ASLModel03.save_weights('ASLTest03.h5')"
   ]
  },
  {
   "cell_type": "code",
   "execution_count": 5,
   "id": "1b4a1bcb",
   "metadata": {},
   "outputs": [
    {
     "data": {
      "image/png": "[encoded data removed]",
      "text/plain": [
       "<Figure size 432x288 with 1 Axes>"
      ]
     },
     "metadata": {
      "needs_background": "light"
     },
     "output_type": "display_data"
    },
    {
     "data": {
      "image/png": "[encoded data removed]",
      "text/plain": [
       "<Figure size 432x288 with 1 Axes>"
      ]
     },
     "metadata": {
      "needs_background": "light"
     },
     "output_type": "display_data"
    }
   ],
   "source": [
    "from matplotlib import pyplot as plt\n",
    "\n",
    "plt.plot(ASLVersion3.history['accuracy'])\n",
    "plt.plot(ASLVersion3.history['val_accuracy'])\n",
    "plt.title('model accuracy')\n",
    "plt.ylabel('accuracy')\n",
    "plt.xlabel('epoch')\n",
    "plt.legend(['train', 'val'], loc='upper left')\n",
    "plt.show()\n",
    "\n",
    "plt.plot(ASLVersion3.history['loss'])\n",
    "plt.plot(ASLVersion3.history['val_loss'])\n",
    "plt.title('model loss')\n",
    "plt.ylabel('loss')\n",
    "plt.xlabel('epoch')\n",
    "plt.legend(['train', 'val'], loc='upper left')\n",
    "plt.show()"
   ]
  },
  {
   "cell_type": "code",
   "execution_count": 6,
   "id": "12e7e65d",
   "metadata": {},
   "outputs": [
    {
     "name": "stdout",
     "output_type": "stream",
     "text": [
      "Found 28 images belonging to 29 classes.\n",
      "1/1 [==============================] - 0s 119ms/step - loss: 0.0105 - accuracy: 1.0000\n",
      "1.0\n",
      "0.010469486005604267\n"
     ]
    }
   ],
   "source": [
    "# Load weights of a pretrained model\n",
    "test_datagen = tf.keras.preprocessing.image.ImageDataGenerator(rescale = 1./255,shear_range = 0.2,\n",
    "                                                               zoom_range = 0.2,\n",
    "                                                               horizontal_flip = True)\n",
    "\n",
    "test_set = test_datagen.flow_from_directory('asl_alphabet_test/asl_alphabet_test',\n",
    "                                            target_size = (73, 73),\n",
    "                                            batch_size = 32,\n",
    "                                            class_mode = 'categorical')\n",
    "\n",
    "\n",
    "ASLModel03.load_weights(\"ASLTest03.h5\")\n",
    "\n",
    "test_loss, test_acc = ASLModel03.evaluate(test_set)\n",
    "print(test_acc)\n",
    "print(test_loss)\n"
   ]
  }
 ],
 "metadata": {
  "kernelspec": {
   "display_name": "Python 3 (ipykernel)",
   "language": "python",
   "name": "python3"
  },
  "language_info": {
   "codemirror_mode": {
    "name": "ipython",
    "version": 3
   },
   "file_extension": ".py",
   "mimetype": "text/x-python",
   "name": "python",
   "nbconvert_exporter": "python",
   "pygments_lexer": "ipython3",
   "version": "3.9.11"
  }
 },
 "nbformat": 4,
 "nbformat_minor": 5
}
