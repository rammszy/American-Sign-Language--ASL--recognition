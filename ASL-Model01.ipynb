{
 "cells": [
  {
   "cell_type": "code",
   "execution_count": 8,
   "id": "9693075e",
   "metadata": {},
   "outputs": [],
   "source": [
    "#Importing tensorflow and keras libraries\n",
    "import tensorflow as tf\n",
    "from tensorflow import keras\n",
    "from tensorflow.keras import layers"
   ]
  },
  {
   "cell_type": "code",
   "execution_count": 9,
   "id": "02e01329",
   "metadata": {},
   "outputs": [
    {
     "name": "stdout",
     "output_type": "stream",
     "text": [
      "Model: \"sequential_5\"\n",
      "_________________________________________________________________\n",
      "Layer (type)                 Output Shape              Param #   \n",
      "=================================================================\n",
      "conv2d_10 (Conv2D)           (None, 71, 71, 32)        896       \n",
      "_________________________________________________________________\n",
      "max_pooling2d_10 (MaxPooling (None, 35, 35, 32)        0         \n",
      "_________________________________________________________________\n",
      "conv2d_11 (Conv2D)           (None, 33, 33, 32)        9248      \n",
      "_________________________________________________________________\n",
      "max_pooling2d_11 (MaxPooling (None, 16, 16, 32)        0         \n",
      "_________________________________________________________________\n",
      "flatten_5 (Flatten)          (None, 8192)              0         \n",
      "_________________________________________________________________\n",
      "dense_10 (Dense)             (None, 128)               1048704   \n",
      "_________________________________________________________________\n",
      "dense_11 (Dense)             (None, 29)                3741      \n",
      "=================================================================\n",
      "Total params: 1,062,589\n",
      "Trainable params: 1,062,589\n",
      "Non-trainable params: 0\n",
      "_________________________________________________________________\n"
     ]
    }
   ],
   "source": [
    "ASLModel01 = tf.keras.models.Sequential([\n",
    "    tf.keras.layers.Conv2D(32, (3,3), activation='relu', input_shape=(73, 73,3)),\n",
    "    tf.keras.layers.MaxPooling2D(2, 2),\n",
    "    tf.keras.layers.Conv2D(32, (3,3), activation='relu'),\n",
    "    tf.keras.layers.MaxPooling2D(2, 2),\n",
    "    tf.keras.layers.Flatten(),\n",
    "    tf.keras.layers.Dense(128, activation='relu'),\n",
    "    tf.keras.layers.Dense(29, activation='softmax')\n",
    "])\n",
    "ASLModel01.compile(optimizer = 'adam', loss = 'categorical_crossentropy', metrics = ['accuracy'])\n",
    "ASLModel01.summary()"
   ]
  },
  {
   "cell_type": "code",
   "execution_count": 10,
   "id": "540b9e57",
   "metadata": {},
   "outputs": [
    {
     "name": "stdout",
     "output_type": "stream",
     "text": [
      "Found 69600 images belonging to 29 classes.\n",
      "Found 17400 images belonging to 29 classes.\n"
     ]
    }
   ],
   "source": [
    "train_datagenerator = tf.keras.preprocessing.image.ImageDataGenerator(rescale = 1./255,\n",
    "                                                                      shear_range = 0.2,\n",
    "                                                                      zoom_range = 0.2,\n",
    "                                                                      horizontal_flip = True,\n",
    "                                                                      validation_split=0.2)\n",
    "\n",
    "training_dataset = train_datagenerator.flow_from_directory('asl_alphabet_train/asl_alphabet_train',\n",
    "                                                           target_size = (73, 73),  # the size of the images expected in my cnn model\n",
    "                                                           batch_size = 32,\n",
    "                                                           subset = 'training',\n",
    "                                                           class_mode = 'categorical')\n",
    "\n",
    "validation_dataset = train_datagenerator.flow_from_directory('asl_alphabet_train/asl_alphabet_train',\n",
    "                                                             target_size = (73, 73),\n",
    "                                                             batch_size = 32,\n",
    "                                                             subset = 'validation',\n",
    "                                                             class_mode = 'categorical')"
   ]
  },
  {
   "cell_type": "code",
   "execution_count": 11,
   "id": "1912db0b",
   "metadata": {},
   "outputs": [
    {
     "name": "stdout",
     "output_type": "stream",
     "text": [
      "Epoch 1/13\n",
      "2175/2175 [==============================] - 930s 427ms/step - loss: 1.3073 - accuracy: 0.5991 - val_loss: 1.8826 - val_accuracy: 0.4657\n",
      "Epoch 2/13\n",
      "2175/2175 [==============================] - 844s 388ms/step - loss: 0.3889 - accuracy: 0.8709 - val_loss: 1.9129 - val_accuracy: 0.5487\n",
      "Epoch 3/13\n",
      "2175/2175 [==============================] - 822s 378ms/step - loss: 0.2265 - accuracy: 0.9237 - val_loss: 2.0009 - val_accuracy: 0.5702\n",
      "Epoch 4/13\n",
      "2175/2175 [==============================] - 825s 379ms/step - loss: 0.1627 - accuracy: 0.9453 - val_loss: 2.0987 - val_accuracy: 0.5870\n",
      "Epoch 5/13\n",
      "2175/2175 [==============================] - 771s 354ms/step - loss: 0.1331 - accuracy: 0.9551 - val_loss: 2.4232 - val_accuracy: 0.5803\n",
      "Epoch 6/13\n",
      "2175/2175 [==============================] - 479s 220ms/step - loss: 0.1102 - accuracy: 0.9633 - val_loss: 2.3859 - val_accuracy: 0.5849\n",
      "Epoch 7/13\n",
      "2175/2175 [==============================] - 296s 136ms/step - loss: 0.0946 - accuracy: 0.9683 - val_loss: 2.3012 - val_accuracy: 0.6031\n",
      "Epoch 8/13\n",
      "2175/2175 [==============================] - 292s 134ms/step - loss: 0.0817 - accuracy: 0.9722 - val_loss: 2.4778 - val_accuracy: 0.6029\n",
      "Epoch 9/13\n",
      "2175/2175 [==============================] - 294s 135ms/step - loss: 0.0738 - accuracy: 0.9754 - val_loss: 2.3308 - val_accuracy: 0.6114\n",
      "Epoch 10/13\n",
      "2175/2175 [==============================] - 292s 134ms/step - loss: 0.0665 - accuracy: 0.9781 - val_loss: 2.3847 - val_accuracy: 0.6382\n",
      "Epoch 11/13\n",
      "2175/2175 [==============================] - 285s 131ms/step - loss: 0.0629 - accuracy: 0.9800 - val_loss: 2.4200 - val_accuracy: 0.6174\n",
      "Epoch 12/13\n",
      "2175/2175 [==============================] - 360s 165ms/step - loss: 0.0607 - accuracy: 0.9802 - val_loss: 2.7792 - val_accuracy: 0.6151\n",
      "Epoch 13/13\n",
      "2175/2175 [==============================] - 406s 187ms/step - loss: 0.0546 - accuracy: 0.9823 - val_loss: 2.0981 - val_accuracy: 0.6533\n"
     ]
    }
   ],
   "source": [
    "ASLVersion1=ASLModel01.fit(training_dataset,\n",
    "              epochs = 13,\n",
    "              validation_data = validation_dataset)\n",
    "ASLModel01.save_weights('ASLTest01.h5')"
   ]
  },
  {
   "cell_type": "code",
   "execution_count": 12,
   "id": "1b4a1bcb",
   "metadata": {},
   "outputs": [
    {
     "data": {
      "image/png": "[encoded data removed]",
      "text/plain": [
       "<Figure size 432x288 with 1 Axes>"
      ]
     },
     "metadata": {
      "needs_background": "light"
     },
     "output_type": "display_data"
    },
    {
     "data": {
      "image/png": "[encoded data removed]",
      "text/plain": [
       "<Figure size 432x288 with 1 Axes>"
      ]
     },
     "metadata": {
      "needs_background": "light"
     },
     "output_type": "display_data"
    }
   ],
   "source": [
    "from matplotlib import pyplot as plt\n",
    "\n",
    "plt.plot(ASLVersion1.history['accuracy'])\n",
    "plt.plot(ASLVersion1.history['val_accuracy'])\n",
    "plt.title('model accuracy')\n",
    "plt.ylabel('accuracy')\n",
    "plt.xlabel('epoch')\n",
    "plt.legend(['train', 'val'], loc='upper left')\n",
    "plt.show()\n",
    "\n",
    "plt.plot(ASLVersion1.history['loss'])\n",
    "plt.plot(ASLVersion1.history['val_loss'])\n",
    "plt.title('model loss')\n",
    "plt.ylabel('loss')\n",
    "plt.xlabel('epoch')\n",
    "plt.legend(['train', 'val'], loc='upper left')\n",
    "plt.show()"
   ]
  },
  {
   "cell_type": "code",
   "execution_count": 13,
   "id": "12e7e65d",
   "metadata": {},
   "outputs": [
    {
     "name": "stdout",
     "output_type": "stream",
     "text": [
      "Found 28 images belonging to 29 classes.\n",
      "1/1 [==============================] - 0s 181ms/step - loss: 0.0017 - accuracy: 1.0000\n",
      "1.0\n",
      "0.0017350753769278526\n"
     ]
    }
   ],
   "source": [
    "# Load weights of a pretrained model\n",
    "test_datagen = tf.keras.preprocessing.image.ImageDataGenerator(rescale = 1./255,shear_range = 0.2,\n",
    "                                                               zoom_range = 0.2,\n",
    "                                                               horizontal_flip = True)\n",
    "\n",
    "test_set = test_datagen.flow_from_directory('asl_alphabet_test/asl_alphabet_test',\n",
    "                                            target_size = (73, 73),\n",
    "                                            batch_size = 32,\n",
    "                                            class_mode = 'categorical')\n",
    "\n",
    "\n",
    "ASLModel01.load_weights(\"ASLTest01.h5\")\n",
    "\n",
    "test_loss, test_acc = ASLModel01.evaluate(test_set)\n",
    "print(test_acc)\n",
    "print(test_loss)\n"
   ]
  }
 ],
 "metadata": {
  "kernelspec": {
   "display_name": "Python 3 (ipykernel)",
   "language": "python",
   "name": "python3"
  },
  "language_info": {
   "codemirror_mode": {
    "name": "ipython",
    "version": 3
   },
   "file_extension": ".py",
   "mimetype": "text/x-python",
   "name": "python",
   "nbconvert_exporter": "python",
   "pygments_lexer": "ipython3",
   "version": "3.9.11"
  }
 },
 "nbformat": 4,
 "nbformat_minor": 5
}
